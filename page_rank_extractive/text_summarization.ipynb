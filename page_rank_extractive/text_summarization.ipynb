{
  "cells": [
    {
      "cell_type": "code",
      "execution_count": 25,
      "metadata": {
        "id": "hzxcNcNbL-Lv"
      },
      "outputs": [],
      "source": [
        "import pandas as pd\n",
        "import itertools\n",
        "import numpy as np\n",
        "from nltk.corpus import stopwords\n",
        "from nltk.tokenize import sent_tokenize\n",
        "from sklearn.metrics.pairwise import cosine_similarity\n",
        "import networkx as nx\n",
        "from termcolor import colored"
      ]
    },
    {
      "cell_type": "code",
      "execution_count": 2,
      "metadata": {
        "id": "vH-Xr4prMFNe"
      },
      "outputs": [
        {
          "data": {
            "text/html": [
              "<div>\n",
              "<style scoped>\n",
              "    .dataframe tbody tr th:only-of-type {\n",
              "        vertical-align: middle;\n",
              "    }\n",
              "\n",
              "    .dataframe tbody tr th {\n",
              "        vertical-align: top;\n",
              "    }\n",
              "\n",
              "    .dataframe thead th {\n",
              "        text-align: right;\n",
              "    }\n",
              "</style>\n",
              "<table border=\"1\" class=\"dataframe\">\n",
              "  <thead>\n",
              "    <tr style=\"text-align: right;\">\n",
              "      <th></th>\n",
              "      <th>article_id</th>\n",
              "      <th>article_text</th>\n",
              "      <th>source</th>\n",
              "    </tr>\n",
              "  </thead>\n",
              "  <tbody>\n",
              "    <tr>\n",
              "      <th>0</th>\n",
              "      <td>1</td>\n",
              "      <td>Maria Sharapova has basically no friends as te...</td>\n",
              "      <td>https://www.tennisworldusa.org/tennis/news/Mar...</td>\n",
              "    </tr>\n",
              "    <tr>\n",
              "      <th>1</th>\n",
              "      <td>2</td>\n",
              "      <td>BASEL, Switzerland (AP), Roger Federer advance...</td>\n",
              "      <td>http://www.tennis.com/pro-game/2018/10/copil-s...</td>\n",
              "    </tr>\n",
              "    <tr>\n",
              "      <th>2</th>\n",
              "      <td>3</td>\n",
              "      <td>Roger Federer has revealed that organisers of ...</td>\n",
              "      <td>https://scroll.in/field/899938/tennis-roger-fe...</td>\n",
              "    </tr>\n",
              "    <tr>\n",
              "      <th>3</th>\n",
              "      <td>4</td>\n",
              "      <td>Kei Nishikori will try to end his long losing ...</td>\n",
              "      <td>http://www.tennis.com/pro-game/2018/10/nishiko...</td>\n",
              "    </tr>\n",
              "    <tr>\n",
              "      <th>4</th>\n",
              "      <td>5</td>\n",
              "      <td>Federer, 37, first broke through on tour over ...</td>\n",
              "      <td>https://www.express.co.uk/sport/tennis/1036101...</td>\n",
              "    </tr>\n",
              "    <tr>\n",
              "      <th>5</th>\n",
              "      <td>6</td>\n",
              "      <td>Nadal has not played tennis since he was force...</td>\n",
              "      <td>https://www.express.co.uk/sport/tennis/1037119...</td>\n",
              "    </tr>\n",
              "    <tr>\n",
              "      <th>6</th>\n",
              "      <td>7</td>\n",
              "      <td>Tennis giveth, and tennis taketh away. The end...</td>\n",
              "      <td>http://www.tennis.com/pro-game/2018/10/tennisc...</td>\n",
              "    </tr>\n",
              "    <tr>\n",
              "      <th>7</th>\n",
              "      <td>8</td>\n",
              "      <td>Federer won the Swiss Indoors last week by bea...</td>\n",
              "      <td>https://www.express.co.uk/sport/tennis/1038186...</td>\n",
              "    </tr>\n",
              "  </tbody>\n",
              "</table>\n",
              "</div>"
            ],
            "text/plain": [
              "   article_id                                       article_text  \\\n",
              "0           1  Maria Sharapova has basically no friends as te...   \n",
              "1           2  BASEL, Switzerland (AP), Roger Federer advance...   \n",
              "2           3  Roger Federer has revealed that organisers of ...   \n",
              "3           4  Kei Nishikori will try to end his long losing ...   \n",
              "4           5  Federer, 37, first broke through on tour over ...   \n",
              "5           6  Nadal has not played tennis since he was force...   \n",
              "6           7  Tennis giveth, and tennis taketh away. The end...   \n",
              "7           8  Federer won the Swiss Indoors last week by bea...   \n",
              "\n",
              "                                              source  \n",
              "0  https://www.tennisworldusa.org/tennis/news/Mar...  \n",
              "1  http://www.tennis.com/pro-game/2018/10/copil-s...  \n",
              "2  https://scroll.in/field/899938/tennis-roger-fe...  \n",
              "3  http://www.tennis.com/pro-game/2018/10/nishiko...  \n",
              "4  https://www.express.co.uk/sport/tennis/1036101...  \n",
              "5  https://www.express.co.uk/sport/tennis/1037119...  \n",
              "6  http://www.tennis.com/pro-game/2018/10/tennisc...  \n",
              "7  https://www.express.co.uk/sport/tennis/1038186...  "
            ]
          },
          "execution_count": 2,
          "metadata": {},
          "output_type": "execute_result"
        }
      ],
      "source": [
        "# tennis.csv contains 8 online articles about tennis\n",
        "df = pd.read_csv(\"./input/tennis.csv\")\n",
        "df"
      ]
    },
    {
      "cell_type": "code",
      "execution_count": 3,
      "metadata": {
        "id": "w2QuS5rAMJYc"
      },
      "outputs": [
        {
          "name": "stdout",
          "output_type": "stream",
          "text": [
            "Maria Sharapova has basically no friends as tennis players on the WTA Tour. The Russian player has no problems in openly speaking about it and in a recent interview she said: 'I don't really hide any feelings too much. I think everyone knows this is my job here. When I'm on the courts or when I'm on the court playing, I'm a competitor and I want to beat every single person whether they're in the locker room or across the net.So I'm not the one to strike up a conversation about the weather and know that in the next few minutes I have to go and try to win a tennis match. I'm a pretty competitive girl. I say my hellos, but I'm not sending any players flowers as well. Uhm, I'm not really friendly or close to many players. I have not a lot of friends away from the courts.' When she said she is not really close to a lot of players, is that something strategic that she is doing? Is it different on the men's tour than the women's tour? 'No, not at all. I think just because you're in the same sport doesn't mean that you have to be friends with everyone just because you're categorized, you're a tennis player, so you're going to get along with tennis players. I think every person has different interests. I have friends that have completely different jobs and interests, and I've met them in very different parts of my life. I think everyone just thinks because we're tennis players we should be the greatest of friends. But ultimately tennis is just a very small part of what we do. There are so many other things that we're interested in, that we do.'\n",
            "\n",
            "\n",
            "BASEL, Switzerland (AP), Roger Federer advanced to the 14th Swiss Indoors final of his career by beating seventh-seeded Daniil Medvedev 6-1, 6-4 on Saturday. Seeking a ninth title at his hometown event, and a 99th overall, Federer will play 93th-ranked Marius Copil on Sunday. Federer dominated the 20th-ranked Medvedev and had his first match-point chance to break serve again at 5-1. He then dropped his serve to love, and let another match point slip in Medvedev's next service game by netting a backhand. He clinched on his fourth chance when Medvedev netted from the baseline. Copil upset expectations of a Federer final against Alexander Zverev in a 6-3, 6-7 (6), 6-4 win over the fifth-ranked German in the earlier semifinal. The Romanian aims for a first title after arriving at Basel without a career win over a top-10 opponent. Copil has two after also beating No. 6 Marin Cilic in the second round. Copil fired 26 aces past Zverev and never dropped serve, clinching after 2 1/2 hours with a forehand volley winner to break Zverev for the second time in the semifinal. He came through two rounds of qualifying last weekend to reach the Basel main draw, including beating Zverev's older brother, Mischa. Federer had an easier time than in his only previous match against Medvedev, a three-setter at Shanghai two weeks ago.\n",
            "\n",
            "\n",
            "Roger Federer has revealed that organisers of the re-launched and condensed Davis Cup gave him three days to decide if he would commit to the controversial competition. Speaking at the Swiss Indoors tournament where he will play in Sundays final against Romanian qualifier Marius Copil, the world number three said that given the impossibly short time frame to make a decision, he opted out of any commitment. \"They only left me three days to decide\", Federer said. \"I didn't to have time to consult with all the people I had to consult. \"I could not make a decision in that time, so I told them to do what they wanted.\" The 20-time Grand Slam champion has voiced doubts about the wisdom of the one-week format to be introduced by organisers Kosmos, who have promised the International Tennis Federation up to $3 billion in prize money over the next quarter-century. The competition is set to feature 18 countries in the November 18-24 finals in Madrid next year, and will replace the classic home-and-away ties played four times per year for decades. Kosmos is headed by Barcelona footballer Gerard Pique, who is hoping fellow Spaniard Rafael Nadal will play in the upcoming event. Novak Djokovic has said he will give precedence to the ATP's intended re-launch of the defunct World Team Cup in January 2020, at various Australian venues. Major players feel that a big event in late November combined with one in January before the Australian Open will mean too much tennis and too little rest. Federer said earlier this month in Shanghai in that his chances of playing the Davis Cup were all but non-existent. \"I highly doubt it, of course. We will see what happens,\" he said. \"I do not think this was designed for me, anyhow. This was designed for the future generation of players.\" Argentina and Britain received wild cards to the new-look event, and will compete along with the four 2018 semi-finalists and the 12 teams who win qualifying rounds next February. \"I don't like being under that kind of pressure,\" Federer said of the deadline Kosmos handed him.\n",
            "\n",
            "\n",
            "Kei Nishikori will try to end his long losing streak in ATP finals and Kevin Anderson will go for his second title of the year at the Erste Bank Open on Sunday. The fifth-seeded Nishikori reached his third final of 2018 after beating Mikhail Kukushkin of Kazakhstan 6-4, 6-3 in the semifinals. A winner of 11 ATP events, Nishikori hasn't triumphed since winning in Memphis in February 2016. He has lost eight straight finals since. The second-seeded Anderson defeated Fernando Verdasco 6-3, 3-6, 6-4. Anderson has a shot at a fifth career title and second of the year after winning in New York in February. Nishikori leads Anderson 4-2 on career matchups, but the South African won their only previous meeting this year. With a victory on Sunday, Anderson will qualify for the ATP Finals. Currently in ninth place, Nishikori with a win could move to within 125 points of the cut for the eight-man event in London next month. Nishikori held serve throughout against Kukushkin, who came through qualifying. He used his first break point to close out the first set before going up 3-0 in the second and wrapping up the win on his first match point. Against Verdasco, Anderson hit nine of his 19 aces in the opening set. The Spaniard broke Anderson twice in the second but didn't get another chance on the South African's serve in the final set.\n",
            "\n",
            "\n",
            "Federer, 37, first broke through on tour over two decades ago and he has since gone on to enjoy a glittering career. The 20-time Grand Slam winner is chasing his 99th ATP title at the Swiss Indoors this week and he faces Jan-Lennard Struff in the second round on Thursday (6pm BST). Davenport enjoyed most of her success in the late 1990s and her third and final major tournament win came at the 2000 Australian Open. But she claims the mentality of professional tennis players slowly began to change after the new millennium. \"It seems pretty friendly right now,\" said Davenport. \"I think there is a really nice environment and a great atmosphere, especially between some of the veteran players helping some of the younger players out. \"It's a very pleasant atmosphere, I'd have to say, around the locker rooms. \"I felt like the best weeks that I had to get to know players when I was playing were the Fed Cup weeks or the Olympic weeks, not necessarily during the tournaments. \"And even though maybe we had smaller teams, I still think we kept to ourselves quite a bit. \"Not always, but I really feel like in the mid-2000 years there was a huge shift of the attitudes of the top players and being more friendly and being more giving, and a lot of that had to do with players like Roger coming up. \"I just felt like it really kind of changed where people were a little bit, definitely in the 90s, a lot more quiet, into themselves, and then it started to become better.\" Meanwhile, Federer is hoping he can improve his service game as he hunts his ninth Swiss Indoors title this week. \"I didn't serve very well [against first-round opponent Filip Kranjovic,\" Federer said. \"I think I was misfiring the corners, I was not hitting the lines enough. \"Clearly you make your life more difficult, but still I was up 6-2, 3-1, break points, so things could have ended very quickly today, even though I didn't have the best serve percentage stats. \"But maybe that's exactly what caught up to me eventually. It's just getting used to it. This is where the first rounds can be tricky.\"\n",
            "\n",
            "\n",
            "Nadal has not played tennis since he was forced to retire from the US Open semi-finals against Juan Martin Del Porto with a knee injury. The world No 1 has been forced to miss Spain's Davis Cup clash with France and the Asian hard court season. But with the ATP World Tour Finals due to begin next month, Nadal is ready to prove his fitness before the season-ending event at the 02 Arena. Nadal flew to Paris on Friday and footage from the Paris Masters official Twitter account shows the Spaniard smiling as he strides onto court for practice. The Paris Masters draw has been made and Nadal will start his campaign on Tuesday or Wednesday against either Fernando Verdasco or Jeremy Chardy. Nadal could then play defending champion Jack Sock in the third round before a potential quarter-final with either Borna Coric or Dominic Thiem. Nadal's appearance in Paris is a big boost to the tournament organisers who could see Roger Federer withdraw. Federer is in action at the Swiss Indoors in Basel and if he reaches the final, he could pull out of Paris in a bid to stay fresh for London. But as it stands, Federer is in the draw and is scheduled to face either former world No 3 Milos Raonic or Jo-Wilfried Tsonga in the second round. Federer's projected route to the Paris final could also lead to matches against Kevin Anderson and Novak Djokovic. Djokovic could play Marco Cecchinato in the second round. British No 1 Kyle Edmund is the 12th seed in Paris and will get underway in round two against either Karen Khachanov or Filip Krajinovic.\n",
            "\n",
            "\n",
            "Tennis giveth, and tennis taketh away. The end of the season is finally in sight, and with so many players defending,or losing,huge chunks of points in Singapore, Zhuhai and London, podcast co-hosts Nina Pantic and Irina Falconi discuss the art of defending points (02:14). It's no secret that Jack Sock has struggled on the singles court this year (his record is 7-19). He could lose 1,400 points in the next few weeks, but instead of focusing on the negative, it can all be about perspective (06:28). Let's also not forget his two Grand Slam doubles triumphs this season. Two players, Stefanos Tsitsipas and Kyle Edmund, won their first career ATP titles last week (13:26). It's a big deal because you never forget your first. Irina looks back at her WTA title win in Bogota in 2016, and tells an unforgettable story about her semifinal drama (14:04). In Singapore, one of the biggest storylines (aside from the matches, of course) has been the on-court coaching debate. Nina and Irina give their opinions on what coaching should look like in the future, on both tours (18:55).\n",
            "\n",
            "\n",
            "Federer won the Swiss Indoors last week by beating Romanian qualifier Marius Copil in the final. The 37-year-old claimed his 99th ATP title and is hunting the century in the French capital this week. Federer has been handed a difficult draw where could could come across Kevin Anderson, Novak Djokovic and Rafael Nadal in the latter rounds. But first the 20-time Grand Slam winner wants to train on the Paris Masters court this afternoon before deciding whether to appear for his opening match against either Milos Raonic or Jo-Wilfried Tsonga. \"On Monday, I am free and will look how I feel,\" Federer said after winning the Swiss Indoors. \"On Tuesday I will fly to Paris and train in the afternoon to be ready for my first match on Wednesday night. \"I felt good all week and better every day. \"We also had the impression that at this stage it might be better to play matches than to train. \"And as long as I fear no injury, I play.\" Federer's success in Basel last week was the ninth time he has won his hometown tournament. And he was delighted to be watched on by all of his family and friends as he purchased 60 tickets for the final for those dearest to him. \"My children, my parents, my sister and my team are all there,\" Federer added. \"It is always very emotional for me to thank my team. And sometimes it tilts with the emotions, sometimes I just stumble. \"It means the world to me. It makes me incredibly happy to win my home tournament and make people happy here. \"I do not know if it's maybe my last title, so today I try a lot more to absorb that and enjoy the moments much more consciously. \"Maybe I should celebrate as if it were my last title. \"There are very touching moments: seeing the ball children, the standing ovations, all the familiar faces in the audience. Because it was not always easy in the last weeks.\"\n",
            "\n",
            "\n"
          ]
        }
      ],
      "source": [
        "for art in df['article_text']:\n",
        "    print(f'{art}\\n\\n')"
      ]
    },
    {
      "cell_type": "code",
      "execution_count": 4,
      "metadata": {
        "id": "YB15gkCjMM_3"
      },
      "outputs": [
        {
          "data": {
            "text/plain": [
              "[\"When I'm on the courts or when I'm on the court playing, I'm a competitor and I want to beat every single person whether they're in the locker room or across the net.So I'm not the one to strike up a conversation about the weather and know that in the next few minutes I have to go and try to win a tennis match.\",\n",
              " 'Copil fired 26 aces past Zverev and never dropped serve, clinching after 2 1/2 hours with a forehand volley winner to break Zverev for the second time in the semifinal.',\n",
              " 'The 20-time Grand Slam champion has voiced doubts about the wisdom of the one-week format to be introduced by organisers Kosmos, who have promised the International Tennis Federation up to $3 billion in prize money over the next quarter-century.',\n",
              " 'Kei Nishikori will try to end his long losing streak in ATP finals and Kevin Anderson will go for his second title of the year at the Erste Bank Open on Sunday.',\n",
              " '\"Not always, but I really feel like in the mid-2000 years there was a huge shift of the attitudes of the top players and being more friendly and being more giving, and a lot of that had to do with players like Roger coming up.',\n",
              " 'Nadal flew to Paris on Friday and footage from the Paris Masters official Twitter account shows the Spaniard smiling as he strides onto court for practice.',\n",
              " 'The end of the season is finally in sight, and with so many players defending,or losing,huge chunks of points in Singapore, Zhuhai and London, podcast co-hosts Nina Pantic and Irina Falconi discuss the art of defending points (02:14).',\n",
              " 'But first the 20-time Grand Slam winner wants to train on the Paris Masters court this afternoon before deciding whether to appear for his opening match against either Milos Raonic or Jo-Wilfried Tsonga.']"
            ]
          },
          "execution_count": 4,
          "metadata": {},
          "output_type": "execute_result"
        }
      ],
      "source": [
        "sentences = []\n",
        "for s in df['article_text']:\n",
        "    sentences.append(sent_tokenize(s))\n",
        "\n",
        "# Extract the longest sentence of each text to be able to check,\n",
        "# if the algorithm performs better then just picking the longest\n",
        "# sentence\n",
        "longest_sentences = []\n",
        "    \n",
        "for item in sentences:\n",
        "    sorteditems = sorted(item, key=len)\n",
        "    longest_sentences.append((sorteditems[-1]))\n",
        "\n",
        "longest_sentences"
      ]
    },
    {
      "cell_type": "code",
      "execution_count": 5,
      "metadata": {
        "id": "zcV6bmNfMTF7"
      },
      "outputs": [
        {
          "data": {
            "text/plain": [
              "['Maria Sharapova has basically no friends as tennis players on the WTA Tour.',\n",
              " \"The Russian player has no problems in openly speaking about it and in a recent interview she said: 'I don't really hide any feelings too much.\",\n",
              " 'I think everyone knows this is my job here.',\n",
              " \"When I'm on the courts or when I'm on the court playing, I'm a competitor and I want to beat every single person whether they're in the locker room or across the net.So I'm not the one to strike up a conversation about the weather and know that in the next few minutes I have to go and try to win a tennis match.\",\n",
              " \"I'm a pretty competitive girl.\"]"
            ]
          },
          "execution_count": 5,
          "metadata": {},
          "output_type": "execute_result"
        }
      ],
      "source": [
        "# Flatten nested list of sentences \n",
        "# to have a single list of all sentences\n",
        "sentences = list(itertools.chain(*sentences))\n",
        "sentences[:5]"
      ]
    },
    {
      "cell_type": "code",
      "execution_count": 6,
      "metadata": {
        "id": "PHDStG5IMV2a"
      },
      "outputs": [
        {
          "name": "stdout",
          "output_type": "stream",
          "text": [
            "['Maria Sharapova has basically no friends as tennis players on the WTA Tour.', \"The Russian player has no problems in openly speaking about it and in a recent interview she said: 'I don't really hide any feelings too much.\", 'I think everyone knows this is my job here.', \"When I'm on the courts or when I'm on the court playing, I'm a competitor and I want to beat every single person whether they're in the locker room or across the net.So I'm not the one to strike up a conversation about the weather and know that in the next few minutes I have to go and try to win a tennis match.\", \"I'm a pretty competitive girl.\"]\n"
          ]
        },
        {
          "name": "stderr",
          "output_type": "stream",
          "text": [
            "C:\\Users\\anura\\AppData\\Local\\Temp\\ipykernel_14432\\307422170.py:1: FutureWarning: The default value of regex will change from True to False in a future version.\n",
            "  clean_sentences = pd.Series(sentences).str.replace(\"[^a-zA-Z]\", \" \")\n"
          ]
        },
        {
          "data": {
            "text/plain": [
              "['maria sharapova basically friends tennis players wta tour',\n",
              " 'russian player problems openly speaking recent interview said really hide feelings much',\n",
              " 'think everyone knows job',\n",
              " 'courts court playing competitor want beat every single person whether locker room across net one strike conversation weather know next minutes go try win tennis match',\n",
              " 'pretty competitive girl']"
            ]
          },
          "execution_count": 6,
          "metadata": {},
          "output_type": "execute_result"
        }
      ],
      "source": [
        "clean_sentences = pd.Series(sentences).str.replace(\"[^a-zA-Z]\", \" \")\n",
        "clean_sentences = [s.lower() for s in clean_sentences]\n",
        "stop_words = stopwords.words('english')\n",
        "\n",
        "def remove_stopwords(words: list) -> str:\n",
        "    \"\"\"Remove stopwords from a list of words and return the remaining words\n",
        "       as a string joint by the space char. \n",
        "    \"\"\"\n",
        "    sentence = \" \".join([word for word in words if word not in stop_words])\n",
        "    return sentence\n",
        "\n",
        "clean_sentences = [remove_stopwords(r.split()) for r in clean_sentences]\n",
        "print(sentences[:5])\n",
        "clean_sentences[:5]"
      ]
    },
    {
      "cell_type": "code",
      "execution_count": 7,
      "metadata": {
        "id": "cKYwVOFeMZFd"
      },
      "outputs": [],
      "source": [
        "word_embeddings = {}\n",
        "\n",
        "f = open('./input/glove.6B.300d.txt', encoding='utf-8')\n",
        "for line in f:\n",
        "    values = line.split()\n",
        "    word = values[0]\n",
        "    coefs = np.asarray(values[1:], dtype='float32')\n",
        "    word_embeddings[word] = coefs\n",
        "f.close()"
      ]
    },
    {
      "cell_type": "code",
      "execution_count": 8,
      "metadata": {
        "id": "1-0IM_YZMbtg"
      },
      "outputs": [
        {
          "data": {
            "text/plain": [
              "array([-0.25831  ,  0.43644  , -0.1138   , -0.5259   ,  0.20213  ,\n",
              "        0.95247  , -0.58764  , -0.047001 , -0.053704 , -1.744    ,\n",
              "        0.99583  ,  0.063464 , -0.093147 , -0.26441  , -0.28676  ,\n",
              "       -0.52357  , -0.17867  ,  0.18171  , -0.71696  , -0.13301  ,\n",
              "        0.42476  ,  0.42044  ,  0.3775   ,  0.082431 ,  0.13154  ,\n",
              "       -0.10151  , -0.11898  ,  0.029509 , -0.39635  ,  0.26516  ,\n",
              "       -0.55091  ,  0.23805  , -0.018748 , -0.039944 , -1.1972   ,\n",
              "        0.13567  ,  0.09371  , -0.60134  ,  0.12887  ,  0.34876  ,\n",
              "       -0.25588  , -0.33466  ,  0.069678 ,  0.5429   ,  0.25246  ,\n",
              "        0.17249  ,  0.099885 ,  0.099456 , -0.01592  ,  0.2617   ,\n",
              "        0.36155  , -0.12417  ,  0.27516  ,  0.037434 , -0.075003 ,\n",
              "        0.61096  ,  0.05261  ,  0.017307 ,  0.12576  , -0.11952  ,\n",
              "       -0.49077  ,  0.026711 , -0.27187  , -0.15268  , -0.22147  ,\n",
              "        0.18131  , -0.045344 ,  0.76151  ,  0.17489  , -0.44112  ,\n",
              "        0.027347 ,  0.42676  , -0.0069618, -0.60233  , -0.016613 ,\n",
              "        0.18418  ,  0.021843 , -0.34176  , -0.55154  ,  0.35013  ,\n",
              "        0.42137  , -0.26789  , -0.18035  ,  0.053171 ,  0.14083  ,\n",
              "        0.29055  ,  0.152    ,  0.01439  ,  0.38663  ,  0.030334 ,\n",
              "       -0.14704  , -0.036147 ,  0.27349  , -0.21787  ,  0.19873  ,\n",
              "        0.12488  , -0.049808 ,  0.41397  , -0.14756  , -0.41982  ,\n",
              "        0.31144  ,  0.043027 ,  0.13019  , -0.1066   ,  0.19274  ,\n",
              "       -0.035078 ,  0.29942  , -0.11902  , -0.44143  ,  0.30043  ,\n",
              "       -0.14127  ,  0.025526 , -0.13042  , -0.14063  ,  0.073307 ,\n",
              "        0.073228 ,  0.24368  ,  0.52377  ,  0.049154 , -0.11187  ,\n",
              "       -0.52428  ,  0.010288 ,  0.16688  , -0.0030069,  0.22922  ,\n",
              "        0.66468  , -0.36986  ,  0.095543 , -0.26651  , -0.57594  ,\n",
              "        0.16846  ,  0.26121  ,  0.2439   , -0.45329  , -0.52662  ,\n",
              "       -0.011254 , -0.017331 , -0.30143  , -0.52018  , -0.11831  ,\n",
              "       -0.28169  ,  0.19066  ,  0.13315  ,  0.41312  ,  0.23883  ,\n",
              "       -0.10314  ,  0.62913  , -0.091733 , -0.28854  ,  0.16397  ,\n",
              "        0.44321  , -0.60102  , -0.1172   , -0.056136 ,  0.60052  ,\n",
              "       -0.054252 , -0.55247  , -0.11621  ,  0.068191 , -0.45674  ,\n",
              "        0.032338 ,  0.051022 ,  0.22195  , -0.16676  ,  0.033077 ,\n",
              "       -0.15372  ,  0.20906  ,  0.3812   , -0.13643  , -0.27834  ,\n",
              "        0.06265  ,  0.27672  , -0.56545  , -0.2464   ,  0.29436  ,\n",
              "        0.16149  ,  0.77578  , -0.14377  , -0.11131  ,  1.1964   ,\n",
              "       -0.067608 ,  0.46178  ,  0.69352  , -0.31582  ,  0.64509  ,\n",
              "        0.072062 , -0.50423  ,  0.27635  , -0.13346  ,  0.01853  ,\n",
              "        0.25858  , -0.15529  ,  0.12289  , -0.34966  , -0.48943  ,\n",
              "        0.11885  ,  0.16122  , -0.25976  ,  0.15021  ,  0.11598  ,\n",
              "        1.8908   ,  0.23723  ,  0.14245  , -0.32139  , -0.16806  ,\n",
              "        0.26471  , -0.27449  , -0.010458 ,  0.044555 , -0.21198  ,\n",
              "       -0.17074  ,  0.046153 , -0.21848  , -0.26406  , -0.14896  ,\n",
              "        0.60799  , -0.56122  , -0.36819  , -0.15405  ,  0.16577  ,\n",
              "        0.33116  , -0.48585  , -0.24098  , -0.029899 ,  0.17621  ,\n",
              "        0.045554 , -0.0063902,  0.36114  , -0.49063  , -0.041788 ,\n",
              "        0.080747 ,  0.061024 ,  0.39921  ,  0.01599  ,  0.15847  ,\n",
              "        0.0091571,  0.38123  ,  0.20664  , -0.39652  , -0.26899  ,\n",
              "       -0.77855  ,  0.01754  ,  0.242    ,  0.17483  , -0.62412  ,\n",
              "       -0.093079 , -0.29577  , -0.0076823, -0.034885 ,  0.25996  ,\n",
              "        0.31075  , -0.36391  ,  0.21322  ,  0.19122  ,  0.0075838,\n",
              "       -0.43858  ,  0.12941  , -0.73911  , -0.032862 , -0.038055 ,\n",
              "        0.19221  , -0.43609  , -0.2739   , -0.15047  ,  0.11068  ,\n",
              "        0.34753  , -0.61807  , -0.0093843,  0.19075  ,  0.32107  ,\n",
              "       -0.13255  ,  0.36662  ,  0.75575  ,  0.94367  ,  0.10123  ,\n",
              "       -0.13744  , -2.0208   ,  0.069843 ,  0.83247  , -0.22516  ,\n",
              "       -0.52209  , -0.60384  , -0.38571  ,  0.19936  ,  0.519    ,\n",
              "       -0.28605  , -0.39936  ,  0.12247  , -0.77574  , -0.078337 ,\n",
              "       -0.35379  , -0.40318  , -0.84683  ,  0.089815 ,  0.21117  ,\n",
              "        0.45053  ,  0.35026  ,  0.081697 , -0.0044191, -0.14102  ],\n",
              "      dtype=float32)"
            ]
          },
          "execution_count": 8,
          "metadata": {},
          "output_type": "execute_result"
        }
      ],
      "source": [
        "word_embeddings['world']"
      ]
    },
    {
      "cell_type": "code",
      "execution_count": 9,
      "metadata": {
        "id": "oBgIteU5MefC"
      },
      "outputs": [],
      "source": [
        "sentence_vectors = []\n",
        "words_not_in_word_embeddings = set()\n",
        "\n",
        "def get_vectors_from_word_embeddings(w):\n",
        "    try:\n",
        "        vec = word_embeddings[w]\n",
        "    except KeyError:\n",
        "        vec = np.zeros((300,))\n",
        "        words_not_in_word_embeddings.add(w)\n",
        "    return vec\n",
        "        \n",
        "for sentence in clean_sentences:\n",
        "    if len(sentence) != 0:\n",
        "        word_list = sentence.split()\n",
        "        vec_list = []\n",
        "        for w in word_list:\n",
        "            vec = get_vectors_from_word_embeddings(w)\n",
        "            vec_list.append(vec)\n",
        "        v = sum(vec_list)/(len(word_list)+0.001)\n",
        "    else:\n",
        "        v = np.zeros((300,))\n",
        "    sentence_vectors.append(v)"
      ]
    },
    {
      "cell_type": "code",
      "execution_count": 10,
      "metadata": {
        "id": "Y3HLBtpaMgu1"
      },
      "outputs": [
        {
          "data": {
            "text/plain": [
              "{'cecchinato', 'khachanov', 'kranjovic', 'struff', 'tsitsipas'}"
            ]
          },
          "execution_count": 10,
          "metadata": {},
          "output_type": "execute_result"
        }
      ],
      "source": [
        "words_not_in_word_embeddings"
      ]
    },
    {
      "cell_type": "code",
      "execution_count": 11,
      "metadata": {
        "id": "9-KsoMtmMix9"
      },
      "outputs": [
        {
          "name": "stdout",
          "output_type": "stream",
          "text": [
            "119\n",
            "119\n"
          ]
        },
        {
          "data": {
            "text/plain": [
              "119"
            ]
          },
          "execution_count": 11,
          "metadata": {},
          "output_type": "execute_result"
        }
      ],
      "source": [
        "print(len(sentences))\n",
        "print(len(clean_sentences))\n",
        "len(sentence_vectors)"
      ]
    },
    {
      "cell_type": "code",
      "execution_count": 12,
      "metadata": {
        "id": "Z7JQuv6RMkyz"
      },
      "outputs": [
        {
          "data": {
            "text/plain": [
              "array([-4.61076051e-02,  1.29591778e-01, -5.93765713e-02, -9.25393030e-02,\n",
              "        9.77605209e-02,  3.80744934e-02, -5.39967835e-01, -1.52831122e-01,\n",
              "       -1.40714034e-01, -6.11173630e-01,  4.43402022e-01, -5.85616753e-02,\n",
              "        2.28641272e-01, -1.77562177e-01, -3.79852504e-01, -1.27993613e-01,\n",
              "       -1.60404950e-01,  1.98072717e-02,  2.03368679e-01,  1.93133727e-01,\n",
              "       -3.58894654e-02, -4.78439452e-03, -3.17186564e-01, -3.08756888e-01,\n",
              "       -2.04970121e-01, -1.72748305e-02, -6.77067935e-02,  3.13480824e-01,\n",
              "       -1.85879245e-02,  1.04714625e-01, -6.04711846e-03,  2.00459920e-02,\n",
              "        5.60364872e-02,  7.86496699e-02, -8.38511407e-01,  6.67703524e-02,\n",
              "        3.29794616e-01,  7.84649476e-02, -9.31521133e-02,  8.28586444e-02,\n",
              "        1.80333838e-01, -6.22619689e-01, -7.29705393e-02,  1.25791267e-01,\n",
              "        2.01891467e-01,  7.65589178e-02,  3.84096801e-01, -1.04883015e-02,\n",
              "       -1.06981210e-01,  1.31630525e-01,  5.08688867e-01,  2.08538920e-02,\n",
              "        5.01151104e-03, -7.22796246e-02, -1.60352185e-01,  3.17627877e-01,\n",
              "       -1.82552189e-02, -1.00696161e-01,  2.94914901e-01, -5.16715422e-02,\n",
              "        2.17048243e-01, -2.51680672e-01,  1.88171223e-01,  1.32598922e-01,\n",
              "       -1.84240699e-01, -3.65767717e-01, -2.46119276e-02, -1.07427947e-01,\n",
              "       -4.48856503e-01, -2.32748762e-01,  2.70033866e-01, -1.43376917e-01,\n",
              "        1.38295060e-02, -1.24195710e-01,  2.51857229e-02, -3.21214199e-01,\n",
              "        2.85915434e-01, -3.69091332e-01, -9.62947085e-02, -7.47034103e-02,\n",
              "        2.32080713e-01,  7.87032396e-02,  1.14905924e-01, -8.55434015e-02,\n",
              "        9.45348069e-02, -1.74153235e-03,  2.62813121e-01,  1.07304826e-01,\n",
              "        2.52088457e-01, -3.99080068e-02,  1.37437567e-01, -1.48455307e-01,\n",
              "        1.52517289e-01, -2.32508808e-01,  1.85485557e-01, -2.76655424e-02,\n",
              "       -2.71506637e-01,  5.47631131e-03, -2.62521058e-02, -5.11711001e-01,\n",
              "        2.76594639e-01,  2.01729778e-02, -9.66209173e-02, -1.60756513e-01,\n",
              "        1.55968091e-03,  4.24960643e-01,  1.42007368e-02, -4.53600764e-01,\n",
              "       -2.91631907e-01, -1.62707150e-01,  1.36621654e-01, -6.72412217e-02,\n",
              "        1.08919129e-01, -1.80619270e-01, -1.76188469e-01,  2.18995854e-01,\n",
              "       -1.44019967e-03, -4.82863374e-02,  4.49923761e-02,  3.54135603e-01,\n",
              "       -5.22259660e-02,  1.24057241e-01,  2.88886726e-01,  1.78203329e-01,\n",
              "        2.31839735e-02,  1.77405939e-01,  8.25104937e-02, -5.37231565e-02,\n",
              "       -1.93151712e-01,  2.59836167e-01, -9.56456736e-02,  1.83029428e-01,\n",
              "       -6.20882399e-02, -1.64452806e-01, -1.39279708e-01, -1.01143464e-01,\n",
              "        4.05952752e-01,  2.80481935e-01, -4.66332957e-02,  1.06059000e-01,\n",
              "       -5.62702538e-03,  9.63874459e-02,  1.46645039e-01,  3.87681484e-01,\n",
              "       -5.95300533e-02,  4.28157765e-03, -2.55660489e-02,  5.29984951e-01,\n",
              "        3.35025221e-01,  1.88533664e-01,  5.55996671e-02, -3.58441442e-01,\n",
              "       -2.23674536e-01,  1.73422068e-01,  1.01847842e-01, -3.86573188e-02,\n",
              "       -3.13780248e-01,  1.77873880e-01,  3.69886272e-02,  2.12636441e-01,\n",
              "       -1.03302211e-01,  3.98652032e-02, -1.35922983e-01, -5.64654432e-02,\n",
              "        1.19827144e-01,  7.37056509e-02,  6.03398345e-02, -1.95726808e-02,\n",
              "        3.01171094e-01, -3.29307616e-02, -2.13506028e-01,  8.97291303e-02,\n",
              "       -4.37555254e-01,  2.98708919e-02, -2.51826137e-01,  1.28391072e-01,\n",
              "        1.79433823e-01, -1.54668102e-02,  7.05911685e-03,  3.34783107e-01,\n",
              "        1.99680030e-01,  1.99606150e-01,  2.02762768e-01, -8.19072574e-02,\n",
              "       -1.49602666e-01,  1.57588810e-01, -4.46424186e-01,  5.15840463e-02,\n",
              "        6.18685149e-02, -2.08002314e-01, -1.49863124e-01,  8.68972540e-02,\n",
              "        7.62862293e-03, -3.74934860e-02, -4.48955186e-02, -3.61138612e-01,\n",
              "        3.96874137e-02, -2.32198332e-02,  2.01067865e-01, -2.19383076e-01,\n",
              "        1.54319453e+00, -9.66215283e-02, -4.54341844e-02,  7.71793425e-02,\n",
              "       -1.31106097e-02,  1.03900814e-02, -2.27640152e-01, -7.32928365e-02,\n",
              "       -4.36973423e-02, -5.36121801e-02, -2.63914496e-01,  3.32162231e-01,\n",
              "       -2.49758393e-01,  2.11730283e-02,  7.64523074e-02, -3.18240196e-01,\n",
              "        4.91198562e-02, -5.24215549e-02,  1.93251986e-02, -3.16668272e-01,\n",
              "        3.40112776e-01,  6.24950603e-02, -5.95078096e-02, -3.54516916e-02,\n",
              "        3.52768064e-03,  1.95532665e-01,  1.05553165e-01, -3.04148078e-01,\n",
              "       -3.50842237e-01,  1.09551407e-01, -1.21907264e-01, -3.27765912e-01,\n",
              "        3.56961846e-01, -3.18683296e-01,  1.93998486e-01,  3.54454443e-02,\n",
              "        4.87360498e-03,  6.94235682e-01,  2.28327692e-01,  1.72703534e-01,\n",
              "       -1.53863266e-01,  9.27882195e-02,  4.45450470e-02,  1.24913000e-01,\n",
              "        1.61369666e-01,  3.08723539e-01, -3.57016593e-01, -1.09227099e-01,\n",
              "        2.33279523e-02, -1.05907999e-01,  2.32223451e-01, -2.36487165e-01,\n",
              "       -2.74831265e-01, -1.23233847e-01,  8.87726396e-02, -1.99436456e-01,\n",
              "        6.61777183e-02, -8.68447721e-02,  3.93166572e-01,  1.24842383e-01,\n",
              "       -1.84875026e-01, -1.40739903e-01,  6.75799251e-02, -4.18298915e-02,\n",
              "        2.24719405e-01,  2.13023387e-02, -6.18072711e-02,  6.91561028e-02,\n",
              "       -8.87842774e-02,  5.48731815e-03,  4.80676442e-02, -8.18597246e-03,\n",
              "        2.92992383e-01, -1.20148472e-01,  4.16454285e-01, -1.68648660e-01,\n",
              "       -1.02083278e+00,  2.34845597e-02,  2.28457183e-01,  1.81955501e-01,\n",
              "        1.34654537e-01,  1.38146505e-01, -3.17199796e-01,  2.17195705e-01,\n",
              "       -4.94871885e-01, -1.67079106e-01, -5.34580648e-02,  1.62448451e-01,\n",
              "       -1.56007007e-01,  7.16060633e-03,  1.19002126e-01, -2.60098111e-02,\n",
              "       -2.42653400e-01,  3.66884142e-01,  2.19477549e-01, -1.03207596e-01,\n",
              "        2.60489166e-01, -8.36826563e-02,  2.11172342e-01,  1.18350200e-01],\n",
              "      dtype=float32)"
            ]
          },
          "execution_count": 12,
          "metadata": {},
          "output_type": "execute_result"
        }
      ],
      "source": [
        "sentence_vectors[0]"
      ]
    },
    {
      "cell_type": "code",
      "execution_count": 17,
      "metadata": {
        "id": "51SJshEqMmlF"
      },
      "outputs": [],
      "source": [
        "# Spoiler alert: 119\n",
        "dataset_length = len(sentences)\n",
        "\n",
        "similarity_matrix = np.zeros([dataset_length, dataset_length])\n",
        "for i in range(dataset_length):\n",
        "    for j in range(dataset_length):\n",
        "        # ignore the diagonal\n",
        "        if i != j:\n",
        "            similarity_matrix[i][j] = cosine_similarity(sentence_vectors[i].reshape(1,300), sentence_vectors[j].reshape(1,300))[0,0]"
      ]
    },
    {
      "cell_type": "code",
      "execution_count": 18,
      "metadata": {
        "id": "2tmFgS6dMsJC"
      },
      "outputs": [
        {
          "data": {
            "text/plain": [
              "0.6195055246353149"
            ]
          },
          "execution_count": 18,
          "metadata": {},
          "output_type": "execute_result"
        }
      ],
      "source": [
        "similarity_matrix[118][117]"
      ]
    },
    {
      "cell_type": "code",
      "execution_count": 19,
      "metadata": {
        "id": "yddBsuYzMutC"
      },
      "outputs": [],
      "source": [
        "nx_graph = nx.from_numpy_array(similarity_matrix)\n",
        "scores = nx.pagerank(nx_graph)"
      ]
    },
    {
      "cell_type": "code",
      "execution_count": 20,
      "metadata": {
        "id": "QzAiUHy0MwZS"
      },
      "outputs": [
        {
          "data": {
            "text/plain": [
              "{0: 0.007885821982884933,\n",
              " 1: 0.008567224044913526,\n",
              " 2: 0.007818890205731737,\n",
              " 3: 0.009937108525290174,\n",
              " 4: 0.006948420815115995,\n",
              " 5: 0.0074651472561015056,\n",
              " 6: 0.00810485920387062,\n",
              " 7: 0.00821824791313258,\n",
              " 8: 0.008788235585347835,\n",
              " 9: 0.008068025315786044,\n",
              " 10: 0.0012695725958021694,\n",
              " 11: 0.009282832381744273,\n",
              " 12: 0.008035557979024586,\n",
              " 13: 0.007905186321127215,\n",
              " 14: 0.008738186092527984,\n",
              " 15: 0.008412522897742504,\n",
              " 16: 0.00765131463538145,\n",
              " 17: 0.007957039806613943,\n",
              " 18: 0.008283437423493719,\n",
              " 19: 0.009176328270149274,\n",
              " 20: 0.009004823527359708,\n",
              " 21: 0.007182012090878639,\n",
              " 22: 0.008304125364273265,\n",
              " 23: 0.009295054603912051,\n",
              " 24: 0.007429507352878927,\n",
              " 25: 0.0060144730442320765,\n",
              " 26: 0.007859710263762022,\n",
              " 27: 0.009081402216231561,\n",
              " 28: 0.009463531926604955,\n",
              " 29: 0.009432609315097299,\n",
              " 30: 0.009726396964829154,\n",
              " 31: 0.009432388750070885,\n",
              " 32: 0.006380908575663468,\n",
              " 33: 0.008868253270499891,\n",
              " 34: 0.009292494059303411,\n",
              " 35: 0.009576898630127463,\n",
              " 36: 0.007380322052458923,\n",
              " 37: 0.009164544667521405,\n",
              " 38: 0.009885503471476712,\n",
              " 39: 0.009398937582774778,\n",
              " 40: 0.007500367229146675,\n",
              " 41: 0.007766143119444638,\n",
              " 42: 0.00618946404465716,\n",
              " 43: 0.00752793323371098,\n",
              " 44: 0.009459048269776501,\n",
              " 45: 0.008432055180535471,\n",
              " 46: 0.009377265696442377,\n",
              " 47: 0.006899493378867501,\n",
              " 48: 0.0077812403220975076,\n",
              " 49: 0.008843959972856353,\n",
              " 50: 0.006244344182052095,\n",
              " 51: 0.00889522672407588,\n",
              " 52: 0.008594565637229433,\n",
              " 53: 0.008139323600296709,\n",
              " 54: 0.009650774597349778,\n",
              " 55: 0.007632422295659215,\n",
              " 56: 0.009624118151090806,\n",
              " 57: 0.007702686459536499,\n",
              " 58: 0.009548814245113108,\n",
              " 59: 0.009331503160499613,\n",
              " 60: 0.0086742715887223,\n",
              " 61: 0.009605627564326452,\n",
              " 62: 0.008743085740259234,\n",
              " 63: 0.00861169473712427,\n",
              " 64: 0.008819288449508205,\n",
              " 65: 0.006566564739320369,\n",
              " 66: 0.009800672319327613,\n",
              " 67: 0.00890595625815834,\n",
              " 68: 0.00947176639043262,\n",
              " 69: 0.008666317830122509,\n",
              " 70: 0.009226003539882626,\n",
              " 71: 0.009182857737937708,\n",
              " 72: 0.007387024996273937,\n",
              " 73: 0.009432859609090887,\n",
              " 74: 0.007912156230232347,\n",
              " 75: 0.007714806950692829,\n",
              " 76: 0.007408277217991217,\n",
              " 77: 0.008794437904679455,\n",
              " 78: 0.009254903351216062,\n",
              " 79: 0.009386749556626335,\n",
              " 80: 0.008692995990985886,\n",
              " 81: 0.00855920002128977,\n",
              " 82: 0.00862528771450922,\n",
              " 83: 0.009233905236477068,\n",
              " 84: 0.008767919818497047,\n",
              " 85: 0.008080686725180085,\n",
              " 86: 0.008953272992511313,\n",
              " 87: 0.009031765789738074,\n",
              " 88: 0.008050311001634457,\n",
              " 89: 0.004674937498176227,\n",
              " 90: 0.008995795504374082,\n",
              " 91: 0.008537120962848381,\n",
              " 92: 0.008882117785190151,\n",
              " 93: 0.008913255146268029,\n",
              " 94: 0.008865880191518898,\n",
              " 95: 0.00906001658218701,\n",
              " 96: 0.008289378192751178,\n",
              " 97: 0.00883380806855098,\n",
              " 98: 0.008068762920105875,\n",
              " 99: 0.007578060613454513,\n",
              " 100: 0.00865128122199971,\n",
              " 101: 0.00908087483978632,\n",
              " 102: 0.009205601124417432,\n",
              " 103: 0.00943926283073632,\n",
              " 104: 0.008628837324118056,\n",
              " 105: 0.009165276318353965,\n",
              " 106: 0.009433975240419867,\n",
              " 107: 0.008468489135188077,\n",
              " 108: 0.009345045815329432,\n",
              " 109: 0.007285959189624662,\n",
              " 110: 0.008636384822598226,\n",
              " 111: 0.00775353160441382,\n",
              " 112: 0.0048171752425153706,\n",
              " 113: 0.008110792636678098,\n",
              " 114: 0.009278585545711359,\n",
              " 115: 0.009008696905389099,\n",
              " 116: 0.008884464184372626,\n",
              " 117: 0.007381591405761306,\n",
              " 118: 0.009335766662235723}"
            ]
          },
          "execution_count": 20,
          "metadata": {},
          "output_type": "execute_result"
        }
      ],
      "source": [
        "scores"
      ]
    },
    {
      "cell_type": "code",
      "execution_count": 21,
      "metadata": {
        "id": "7AgF6GH5Mx17"
      },
      "outputs": [],
      "source": [
        "ranked_sentences = sorted(((scores[i],s) for i,s in enumerate(sentences)), reverse=True)"
      ]
    },
    {
      "cell_type": "code",
      "execution_count": 22,
      "metadata": {
        "id": "XbF0mzf5M0Pi"
      },
      "outputs": [
        {
          "name": "stdout",
          "output_type": "stream",
          "text": [
            "119\n"
          ]
        },
        {
          "data": {
            "text/plain": [
              "[(0.009937108525290174,\n",
              "  \"When I'm on the courts or when I'm on the court playing, I'm a competitor and I want to beat every single person whether they're in the locker room or across the net.So I'm not the one to strike up a conversation about the weather and know that in the next few minutes I have to go and try to win a tennis match.\"),\n",
              " (0.009885503471476712,\n",
              "  'Major players feel that a big event in late November combined with one in January before the Australian Open will mean too much tennis and too little rest.'),\n",
              " (0.009800672319327613,\n",
              "  '\"I felt like the best weeks that I had to get to know players when I was playing were the Fed Cup weeks or the Olympic weeks, not necessarily during the tournaments.'),\n",
              " (0.009726396964829154,\n",
              "  'Speaking at the Swiss Indoors tournament where he will play in Sundays final against Romanian qualifier Marius Copil, the world number three said that given the impossibly short time frame to make a decision, he opted out of any commitment.'),\n",
              " (0.009650774597349778,\n",
              "  'Currently in ninth place, Nishikori with a win could move to within 125 points of the cut for the eight-man event in London next month.')]"
            ]
          },
          "execution_count": 22,
          "metadata": {},
          "output_type": "execute_result"
        }
      ],
      "source": [
        "print(len(ranked_sentences))\n",
        "ranked_sentences[:5]"
      ]
    },
    {
      "cell_type": "code",
      "execution_count": 23,
      "metadata": {
        "id": "nD-yjWMdM1hx"
      },
      "outputs": [
        {
          "name": "stdout",
          "output_type": "stream",
          "text": [
            "0.009937108525290174 When I'm on the courts or when I'm on the court playing, I'm a competitor and I want to beat every single person whether they're in the locker room or across the net.So I'm not the one to strike up a conversation about the weather and know that in the next few minutes I have to go and try to win a tennis match.\n",
            "0.009885503471476712 Major players feel that a big event in late November combined with one in January before the Australian Open will mean too much tennis and too little rest.\n",
            "0.009800672319327613 \"I felt like the best weeks that I had to get to know players when I was playing were the Fed Cup weeks or the Olympic weeks, not necessarily during the tournaments.\n",
            "0.009726396964829154 Speaking at the Swiss Indoors tournament where he will play in Sundays final against Romanian qualifier Marius Copil, the world number three said that given the impossibly short time frame to make a decision, he opted out of any commitment.\n",
            "0.009650774597349778 Currently in ninth place, Nishikori with a win could move to within 125 points of the cut for the eight-man event in London next month.\n",
            "0.009624118151090806 He used his first break point to close out the first set before going up 3-0 in the second and wrapping up the win on his first match point.\n",
            "0.009605627564326452 Davenport enjoyed most of her success in the late 1990s and her third and final major tournament win came at the 2000 Australian Open.\n",
            "0.009576898630127463 The competition is set to feature 18 countries in the November 18-24 finals in Madrid next year, and will replace the classic home-and-away ties played four times per year for decades.\n",
            "0.009548814245113108 The Spaniard broke Anderson twice in the second but didn't get another chance on the South African's serve in the final set.\n",
            "0.00947176639043262 \"Not always, but I really feel like in the mid-2000 years there was a huge shift of the attitudes of the top players and being more friendly and being more giving, and a lot of that had to do with players like Roger coming up.\n",
            "0.009463531926604955 Federer had an easier time than in his only previous match against Medvedev, a three-setter at Shanghai two weeks ago.\n",
            "0.009459048269776501 Argentina and Britain received wild cards to the new-look event, and will compete along with the four 2018 semi-finalists and the 12 teams who win qualifying rounds next February.\n",
            "0.00943926283073632 \"On Monday, I am free and will look how I feel,\" Federer said after winning the Swiss Indoors.\n",
            "0.009433975240419867 \"We also had the impression that at this stage it might be better to play matches than to train.\n",
            "0.009432859609090887 \"Clearly you make your life more difficult, but still I was up 6-2, 3-1, break points, so things could have ended very quickly today, even though I didn't have the best serve percentage stats.\n",
            "0.009432609315097299 Roger Federer has revealed that organisers of the re-launched and condensed Davis Cup gave him three days to decide if he would commit to the controversial competition.\n",
            "0.009432388750070885 \"They only left me three days to decide\", Federer said.\n",
            "0.009398937582774778 Federer said earlier this month in Shanghai in that his chances of playing the Davis Cup were all but non-existent.\n",
            "0.009386749556626335 But with the ATP World Tour Finals due to begin next month, Nadal is ready to prove his fitness before the season-ending event at the 02 Arena.\n",
            "0.009377265696442377 Kei Nishikori will try to end his long losing streak in ATP finals and Kevin Anderson will go for his second title of the year at the Erste Bank Open on Sunday.\n",
            "0.009345045815329432 Federer's success in Basel last week was the ninth time he has won his hometown tournament.\n",
            "0.009335766662235723 Because it was not always easy in the last weeks.\"\n",
            "0.009331503160499613 Federer, 37, first broke through on tour over two decades ago and he has since gone on to enjoy a glittering career.\n",
            "0.009295054603912051 The Romanian aims for a first title after arriving at Basel without a career win over a top-10 opponent.\n",
            "0.009292494059303411 The 20-time Grand Slam champion has voiced doubts about the wisdom of the one-week format to be introduced by organisers Kosmos, who have promised the International Tennis Federation up to $3 billion in prize money over the next quarter-century.\n",
            "0.009282832381744273 I think just because you're in the same sport doesn't mean that you have to be friends with everyone just because you're categorized, you're a tennis player, so you're going to get along with tennis players.\n",
            "0.009278585545711359 It makes me incredibly happy to win my home tournament and make people happy here.\n",
            "0.009254903351216062 The world No 1 has been forced to miss Spain's Davis Cup clash with France and the Asian hard court season.\n",
            "0.009233905236477068 Nadal's appearance in Paris is a big boost to the tournament organisers who could see Roger Federer withdraw.\n",
            "0.009226003539882626 Meanwhile, Federer is hoping he can improve his service game as he hunts his ninth Swiss Indoors title this week.\n",
            "0.009205601124417432 But first the 20-time Grand Slam winner wants to train on the Paris Masters court this afternoon before deciding whether to appear for his opening match against either Milos Raonic or Jo-Wilfried Tsonga.\n",
            "0.009182857737937708 \"I didn't serve very well [against first-round opponent Filip Kranjovic,\" Federer said.\n",
            "0.009176328270149274 Federer dominated the 20th-ranked Medvedev and had his first match-point chance to break serve again at 5-1.\n",
            "0.009165276318353965 \"I felt good all week and better every day.\n",
            "0.009164544667521405 Novak Djokovic has said he will give precedence to the ATP's intended re-launch of the defunct World Team Cup in January 2020, at various Australian venues.\n",
            "0.009081402216231561 He came through two rounds of qualifying last weekend to reach the Basel main draw, including beating Zverev's older brother, Mischa.\n",
            "0.00908087483978632 Federer has been handed a difficult draw where could could come across Kevin Anderson, Novak Djokovic and Rafael Nadal in the latter rounds.\n",
            "0.00906001658218701 It's a big deal because you never forget your first.\n",
            "0.009031765789738074 Djokovic could play Marco Cecchinato in the second round.\n",
            "0.009008696905389099 \"I do not know if it's maybe my last title, so today I try a lot more to absorb that and enjoy the moments much more consciously.\n",
            "0.009004823527359708 He then dropped his serve to love, and let another match point slip in Medvedev's next service game by netting a backhand.\n",
            "0.008995795504374082 The end of the season is finally in sight, and with so many players defending,or losing,huge chunks of points in Singapore, Zhuhai and London, podcast co-hosts Nina Pantic and Irina Falconi discuss the art of defending points (02:14).\n",
            "0.008953272992511313 Federer's projected route to the Paris final could also lead to matches against Kevin Anderson and Novak Djokovic.\n",
            "0.008913255146268029 Let's also not forget his two Grand Slam doubles triumphs this season.\n",
            "0.00890595625815834 \"And even though maybe we had smaller teams, I still think we kept to ourselves quite a bit.\n",
            "0.00889522672407588 Anderson has a shot at a fifth career title and second of the year after winning in New York in February.\n",
            "0.008884464184372626 \"Maybe I should celebrate as if it were my last title.\n",
            "0.008882117785190151 He could lose 1,400 points in the next few weeks, but instead of focusing on the negative, it can all be about perspective (06:28).\n",
            "0.008868253270499891 \"I could not make a decision in that time, so I told them to do what they wanted.\"\n",
            "0.008865880191518898 Two players, Stefanos Tsitsipas and Kyle Edmund, won their first career ATP titles last week (13:26).\n",
            "0.008843959972856353 He has lost eight straight finals since.\n",
            "0.00883380806855098 In Singapore, one of the biggest storylines (aside from the matches, of course) has been the on-court coaching debate.\n",
            "0.008819288449508205 \"I think there is a really nice environment and a great atmosphere, especially between some of the veteran players helping some of the younger players out.\n",
            "0.008794437904679455 Nadal has not played tennis since he was forced to retire from the US Open semi-finals against Juan Martin Del Porto with a knee injury.\n",
            "0.008788235585347835 When she said she is not really close to a lot of players, is that something strategic that she is doing?\n",
            "0.008767919818497047 Federer is in action at the Swiss Indoors in Basel and if he reaches the final, he could pull out of Paris in a bid to stay fresh for London.\n",
            "0.008743085740259234 But she claims the mentality of professional tennis players slowly began to change after the new millennium.\n",
            "0.008738186092527984 I think everyone just thinks because we're tennis players we should be the greatest of friends.\n",
            "0.008692995990985886 Nadal flew to Paris on Friday and footage from the Paris Masters official Twitter account shows the Spaniard smiling as he strides onto court for practice.\n",
            "0.0086742715887223 The 20-time Grand Slam winner is chasing his 99th ATP title at the Swiss Indoors this week and he faces Jan-Lennard Struff in the second round on Thursday (6pm BST).\n",
            "0.008666317830122509 \"I just felt like it really kind of changed where people were a little bit, definitely in the 90s, a lot more quiet, into themselves, and then it started to become better.\"\n",
            "0.00865128122199971 The 37-year-old claimed his 99th ATP title and is hunting the century in the French capital this week.\n",
            "0.008636384822598226 \"My children, my parents, my sister and my team are all there,\" Federer added.\n",
            "0.008628837324118056 \"On Tuesday I will fly to Paris and train in the afternoon to be ready for my first match on Wednesday night.\n",
            "0.00862528771450922 Nadal could then play defending champion Jack Sock in the third round before a potential quarter-final with either Borna Coric or Dominic Thiem.\n",
            "0.00861169473712427 \"It seems pretty friendly right now,\" said Davenport.\n",
            "0.008594565637229433 Nishikori leads Anderson 4-2 on career matchups, but the South African won their only previous meeting this year.\n",
            "0.008567224044913526 The Russian player has no problems in openly speaking about it and in a recent interview she said: 'I don't really hide any feelings too much.\n",
            "0.00855920002128977 The Paris Masters draw has been made and Nadal will start his campaign on Tuesday or Wednesday against either Fernando Verdasco or Jeremy Chardy.\n",
            "0.008537120962848381 It's no secret that Jack Sock has struggled on the singles court this year (his record is 7-19).\n",
            "0.008468489135188077 \"And as long as I fear no injury, I play.\"\n",
            "0.008432055180535471 \"I don't like being under that kind of pressure,\" Federer said of the deadline Kosmos handed him.\n",
            "0.008412522897742504 But ultimately tennis is just a very small part of what we do.\n",
            "0.008304125364273265 Copil upset expectations of a Federer final against Alexander Zverev in a 6-3, 6-7 (6), 6-4 win over the fifth-ranked German in the earlier semifinal.\n",
            "0.008289378192751178 Irina looks back at her WTA title win in Bogota in 2016, and tells an unforgettable story about her semifinal drama (14:04).\n",
            "0.008283437423493719 Seeking a ninth title at his hometown event, and a 99th overall, Federer will play 93th-ranked Marius Copil on Sunday.\n",
            "0.00821824791313258 I have not a lot of friends away from the courts.'\n",
            "0.008139323600296709 With a victory on Sunday, Anderson will qualify for the ATP Finals.\n",
            "0.008110792636678098 \"It means the world to me.\n",
            "0.00810485920387062 Uhm, I'm not really friendly or close to many players.\n",
            "0.008080686725180085 But as it stands, Federer is in the draw and is scheduled to face either former world No 3 Milos Raonic or Jo-Wilfried Tsonga in the second round.\n",
            "0.008068762920105875 Nina and Irina give their opinions on what coaching should look like in the future, on both tours (18:55).\n",
            "0.008068025315786044 Is it different on the men's tour than the women's tour?\n",
            "0.008050311001634457 British No 1 Kyle Edmund is the 12th seed in Paris and will get underway in round two against either Karen Khachanov or Filip Krajinovic.\n",
            "0.008035557979024586 I think every person has different interests.\n",
            "0.007957039806613943 BASEL, Switzerland (AP), Roger Federer advanced to the 14th Swiss Indoors final of his career by beating seventh-seeded Daniil Medvedev 6-1, 6-4 on Saturday.\n",
            "0.007912156230232347 \"But maybe that's exactly what caught up to me eventually.\n",
            "0.007905186321127215 I have friends that have completely different jobs and interests, and I've met them in very different parts of my life.\n",
            "0.007885821982884933 Maria Sharapova has basically no friends as tennis players on the WTA Tour.\n",
            "0.007859710263762022 Copil fired 26 aces past Zverev and never dropped serve, clinching after 2 1/2 hours with a forehand volley winner to break Zverev for the second time in the semifinal.\n",
            "0.007818890205731737 I think everyone knows this is my job here.\n",
            "0.0077812403220975076 A winner of 11 ATP events, Nishikori hasn't triumphed since winning in Memphis in February 2016.\n",
            "0.007766143119444638 We will see what happens,\" he said.\n",
            "0.00775353160441382 \"It is always very emotional for me to thank my team.\n",
            "0.007714806950692829 It's just getting used to it.\n",
            "0.007702686459536499 Against Verdasco, Anderson hit nine of his 19 aces in the opening set.\n",
            "0.00765131463538145 There are so many other things that we're interested in, that we do.'\n",
            "0.007632422295659215 Nishikori held serve throughout against Kukushkin, who came through qualifying.\n",
            "0.007578060613454513 Federer won the Swiss Indoors last week by beating Romanian qualifier Marius Copil in the final.\n",
            "0.00752793323371098 This was designed for the future generation of players.\"\n",
            "0.007500367229146675 \"I highly doubt it, of course.\n",
            "0.0074651472561015056 I say my hellos, but I'm not sending any players flowers as well.\n",
            "0.007429507352878927 Copil has two after also beating No.\n",
            "0.007408277217991217 This is where the first rounds can be tricky.\"\n",
            "0.007387024996273937 \"I think I was misfiring the corners, I was not hitting the lines enough.\n",
            "0.007381591405761306 \"There are very touching moments: seeing the ball children, the standing ovations, all the familiar faces in the audience.\n",
            "0.007380322052458923 Kosmos is headed by Barcelona footballer Gerard Pique, who is hoping fellow Spaniard Rafael Nadal will play in the upcoming event.\n",
            "0.007285959189624662 And he was delighted to be watched on by all of his family and friends as he purchased 60 tickets for the final for those dearest to him.\n",
            "0.007182012090878639 He clinched on his fourth chance when Medvedev netted from the baseline.\n",
            "0.006948420815115995 I'm a pretty competitive girl.\n",
            "0.006899493378867501 The fifth-seeded Nishikori reached his third final of 2018 after beating Mikhail Kukushkin of Kazakhstan 6-4, 6-3 in the semifinals.\n",
            "0.006566564739320369 \"It's a very pleasant atmosphere, I'd have to say, around the locker rooms.\n",
            "0.006380908575663468 \"I didn't to have time to consult with all the people I had to consult.\n",
            "0.006244344182052095 The second-seeded Anderson defeated Fernando Verdasco 6-3, 3-6, 6-4.\n",
            "0.00618946404465716 \"I do not think this was designed for me, anyhow.\n",
            "0.0060144730442320765 6 Marin Cilic in the second round.\n",
            "0.0048171752425153706 And sometimes it tilts with the emotions, sometimes I just stumble.\n",
            "0.004674937498176227 Tennis giveth, and tennis taketh away.\n",
            "0.0012695725958021694 'No, not at all.\n"
          ]
        }
      ],
      "source": [
        "# ranked_sentences contains the highest ranked sentence for every text. It is a list of tuples (score, sentence)\n",
        "# How can this be mapped back to the texts? Why do we need to compute the pagerank for every sentence against every other sentence?\n",
        "for sentence in ranked_sentences:\n",
        "    print(sentence[0], sentence[1])"
      ]
    },
    {
      "cell_type": "code",
      "execution_count": 26,
      "metadata": {
        "id": "InjROLkgM3Vu"
      },
      "outputs": [
        {
          "name": "stdout",
          "output_type": "stream",
          "text": [
            "                     ARTICLE:                     \n",
            "\n",
            "\n",
            "Maria Sharapova has basically no friends as tennis players on the WTA Tour. The Russian player has no problems in openly speaking about it and in a recent interview she said: 'I don't really hide any feelings too much. I think everyone knows this is my job here. When I'm on the courts or when I'm on the court playing, I'm a competitor and I want to beat every single person whether they're in the locker room or across the net.So I'm not the one to strike up a conversation about the weather and know that in the next few minutes I have to go and try to win a tennis match. I'm a pretty competitive girl. I say my hellos, but I'm not sending any players flowers as well. Uhm, I'm not really friendly or close to many players. I have not a lot of friends away from the courts.' When she said she is not really close to a lot of players, is that something strategic that she is doing? Is it different on the men's tour than the women's tour? 'No, not at all. I think just because you're in the same sport doesn't mean that you have to be friends with everyone just because you're categorized, you're a tennis player, so you're going to get along with tennis players. I think every person has different interests. I have friends that have completely different jobs and interests, and I've met them in very different parts of my life. I think everyone just thinks because we're tennis players we should be the greatest of friends. But ultimately tennis is just a very small part of what we do. There are so many other things that we're interested in, that we do.'\n",
            "\n",
            "\n",
            "                     SUMMARY:                     \n",
            "\n",
            "\n",
            "              Summary in Text? True               \n",
            "\n",
            "\n",
            "When I'm on the courts or when I'm on the court playing, I'm a competitor and I want to beat every single person whether they're in the locker room or across the net.So I'm not the one to strike up a conversation about the weather and know that in the next few minutes I have to go and try to win a tennis match. - Score: 0.009937108525290174\n",
            "\n",
            "\n",
            "                     ARTICLE:                     \n",
            "\n",
            "\n",
            "BASEL, Switzerland (AP), Roger Federer advanced to the 14th Swiss Indoors final of his career by beating seventh-seeded Daniil Medvedev 6-1, 6-4 on Saturday. Seeking a ninth title at his hometown event, and a 99th overall, Federer will play 93th-ranked Marius Copil on Sunday. Federer dominated the 20th-ranked Medvedev and had his first match-point chance to break serve again at 5-1. He then dropped his serve to love, and let another match point slip in Medvedev's next service game by netting a backhand. He clinched on his fourth chance when Medvedev netted from the baseline. Copil upset expectations of a Federer final against Alexander Zverev in a 6-3, 6-7 (6), 6-4 win over the fifth-ranked German in the earlier semifinal. The Romanian aims for a first title after arriving at Basel without a career win over a top-10 opponent. Copil has two after also beating No. 6 Marin Cilic in the second round. Copil fired 26 aces past Zverev and never dropped serve, clinching after 2 1/2 hours with a forehand volley winner to break Zverev for the second time in the semifinal. He came through two rounds of qualifying last weekend to reach the Basel main draw, including beating Zverev's older brother, Mischa. Federer had an easier time than in his only previous match against Medvedev, a three-setter at Shanghai two weeks ago.\n",
            "\n",
            "\n",
            "                     SUMMARY:                     \n",
            "\n",
            "\n",
            "              Summary in Text? False              \n",
            "\n",
            "\n",
            "Major players feel that a big event in late November combined with one in January before the Australian Open will mean too much tennis and too little rest. - Score: 0.009885503471476712\n",
            "\n",
            "\n",
            "                     ARTICLE:                     \n",
            "\n",
            "\n",
            "Roger Federer has revealed that organisers of the re-launched and condensed Davis Cup gave him three days to decide if he would commit to the controversial competition. Speaking at the Swiss Indoors tournament where he will play in Sundays final against Romanian qualifier Marius Copil, the world number three said that given the impossibly short time frame to make a decision, he opted out of any commitment. \"They only left me three days to decide\", Federer said. \"I didn't to have time to consult with all the people I had to consult. \"I could not make a decision in that time, so I told them to do what they wanted.\" The 20-time Grand Slam champion has voiced doubts about the wisdom of the one-week format to be introduced by organisers Kosmos, who have promised the International Tennis Federation up to $3 billion in prize money over the next quarter-century. The competition is set to feature 18 countries in the November 18-24 finals in Madrid next year, and will replace the classic home-and-away ties played four times per year for decades. Kosmos is headed by Barcelona footballer Gerard Pique, who is hoping fellow Spaniard Rafael Nadal will play in the upcoming event. Novak Djokovic has said he will give precedence to the ATP's intended re-launch of the defunct World Team Cup in January 2020, at various Australian venues. Major players feel that a big event in late November combined with one in January before the Australian Open will mean too much tennis and too little rest. Federer said earlier this month in Shanghai in that his chances of playing the Davis Cup were all but non-existent. \"I highly doubt it, of course. We will see what happens,\" he said. \"I do not think this was designed for me, anyhow. This was designed for the future generation of players.\" Argentina and Britain received wild cards to the new-look event, and will compete along with the four 2018 semi-finalists and the 12 teams who win qualifying rounds next February. \"I don't like being under that kind of pressure,\" Federer said of the deadline Kosmos handed him.\n",
            "\n",
            "\n",
            "                     SUMMARY:                     \n",
            "\n",
            "\n",
            "              Summary in Text? False              \n",
            "\n",
            "\n",
            "\"I felt like the best weeks that I had to get to know players when I was playing were the Fed Cup weeks or the Olympic weeks, not necessarily during the tournaments. - Score: 0.009800672319327613\n",
            "\n",
            "\n",
            "                     ARTICLE:                     \n",
            "\n",
            "\n",
            "Kei Nishikori will try to end his long losing streak in ATP finals and Kevin Anderson will go for his second title of the year at the Erste Bank Open on Sunday. The fifth-seeded Nishikori reached his third final of 2018 after beating Mikhail Kukushkin of Kazakhstan 6-4, 6-3 in the semifinals. A winner of 11 ATP events, Nishikori hasn't triumphed since winning in Memphis in February 2016. He has lost eight straight finals since. The second-seeded Anderson defeated Fernando Verdasco 6-3, 3-6, 6-4. Anderson has a shot at a fifth career title and second of the year after winning in New York in February. Nishikori leads Anderson 4-2 on career matchups, but the South African won their only previous meeting this year. With a victory on Sunday, Anderson will qualify for the ATP Finals. Currently in ninth place, Nishikori with a win could move to within 125 points of the cut for the eight-man event in London next month. Nishikori held serve throughout against Kukushkin, who came through qualifying. He used his first break point to close out the first set before going up 3-0 in the second and wrapping up the win on his first match point. Against Verdasco, Anderson hit nine of his 19 aces in the opening set. The Spaniard broke Anderson twice in the second but didn't get another chance on the South African's serve in the final set.\n",
            "\n",
            "\n",
            "                     SUMMARY:                     \n",
            "\n",
            "\n",
            "              Summary in Text? False              \n",
            "\n",
            "\n",
            "Speaking at the Swiss Indoors tournament where he will play in Sundays final against Romanian qualifier Marius Copil, the world number three said that given the impossibly short time frame to make a decision, he opted out of any commitment. - Score: 0.009726396964829154\n",
            "\n",
            "\n",
            "                     ARTICLE:                     \n",
            "\n",
            "\n",
            "Federer, 37, first broke through on tour over two decades ago and he has since gone on to enjoy a glittering career. The 20-time Grand Slam winner is chasing his 99th ATP title at the Swiss Indoors this week and he faces Jan-Lennard Struff in the second round on Thursday (6pm BST). Davenport enjoyed most of her success in the late 1990s and her third and final major tournament win came at the 2000 Australian Open. But she claims the mentality of professional tennis players slowly began to change after the new millennium. \"It seems pretty friendly right now,\" said Davenport. \"I think there is a really nice environment and a great atmosphere, especially between some of the veteran players helping some of the younger players out. \"It's a very pleasant atmosphere, I'd have to say, around the locker rooms. \"I felt like the best weeks that I had to get to know players when I was playing were the Fed Cup weeks or the Olympic weeks, not necessarily during the tournaments. \"And even though maybe we had smaller teams, I still think we kept to ourselves quite a bit. \"Not always, but I really feel like in the mid-2000 years there was a huge shift of the attitudes of the top players and being more friendly and being more giving, and a lot of that had to do with players like Roger coming up. \"I just felt like it really kind of changed where people were a little bit, definitely in the 90s, a lot more quiet, into themselves, and then it started to become better.\" Meanwhile, Federer is hoping he can improve his service game as he hunts his ninth Swiss Indoors title this week. \"I didn't serve very well [against first-round opponent Filip Kranjovic,\" Federer said. \"I think I was misfiring the corners, I was not hitting the lines enough. \"Clearly you make your life more difficult, but still I was up 6-2, 3-1, break points, so things could have ended very quickly today, even though I didn't have the best serve percentage stats. \"But maybe that's exactly what caught up to me eventually. It's just getting used to it. This is where the first rounds can be tricky.\"\n",
            "\n",
            "\n",
            "                     SUMMARY:                     \n",
            "\n",
            "\n",
            "              Summary in Text? False              \n",
            "\n",
            "\n",
            "Currently in ninth place, Nishikori with a win could move to within 125 points of the cut for the eight-man event in London next month. - Score: 0.009650774597349778\n",
            "\n",
            "\n",
            "                     ARTICLE:                     \n",
            "\n",
            "\n",
            "Nadal has not played tennis since he was forced to retire from the US Open semi-finals against Juan Martin Del Porto with a knee injury. The world No 1 has been forced to miss Spain's Davis Cup clash with France and the Asian hard court season. But with the ATP World Tour Finals due to begin next month, Nadal is ready to prove his fitness before the season-ending event at the 02 Arena. Nadal flew to Paris on Friday and footage from the Paris Masters official Twitter account shows the Spaniard smiling as he strides onto court for practice. The Paris Masters draw has been made and Nadal will start his campaign on Tuesday or Wednesday against either Fernando Verdasco or Jeremy Chardy. Nadal could then play defending champion Jack Sock in the third round before a potential quarter-final with either Borna Coric or Dominic Thiem. Nadal's appearance in Paris is a big boost to the tournament organisers who could see Roger Federer withdraw. Federer is in action at the Swiss Indoors in Basel and if he reaches the final, he could pull out of Paris in a bid to stay fresh for London. But as it stands, Federer is in the draw and is scheduled to face either former world No 3 Milos Raonic or Jo-Wilfried Tsonga in the second round. Federer's projected route to the Paris final could also lead to matches against Kevin Anderson and Novak Djokovic. Djokovic could play Marco Cecchinato in the second round. British No 1 Kyle Edmund is the 12th seed in Paris and will get underway in round two against either Karen Khachanov or Filip Krajinovic.\n",
            "\n",
            "\n",
            "                     SUMMARY:                     \n",
            "\n",
            "\n",
            "              Summary in Text? False              \n",
            "\n",
            "\n",
            "He used his first break point to close out the first set before going up 3-0 in the second and wrapping up the win on his first match point. - Score: 0.009624118151090806\n",
            "\n",
            "\n",
            "                     ARTICLE:                     \n",
            "\n",
            "\n",
            "Tennis giveth, and tennis taketh away. The end of the season is finally in sight, and with so many players defending,or losing,huge chunks of points in Singapore, Zhuhai and London, podcast co-hosts Nina Pantic and Irina Falconi discuss the art of defending points (02:14). It's no secret that Jack Sock has struggled on the singles court this year (his record is 7-19). He could lose 1,400 points in the next few weeks, but instead of focusing on the negative, it can all be about perspective (06:28). Let's also not forget his two Grand Slam doubles triumphs this season. Two players, Stefanos Tsitsipas and Kyle Edmund, won their first career ATP titles last week (13:26). It's a big deal because you never forget your first. Irina looks back at her WTA title win in Bogota in 2016, and tells an unforgettable story about her semifinal drama (14:04). In Singapore, one of the biggest storylines (aside from the matches, of course) has been the on-court coaching debate. Nina and Irina give their opinions on what coaching should look like in the future, on both tours (18:55).\n",
            "\n",
            "\n",
            "                     SUMMARY:                     \n",
            "\n",
            "\n",
            "              Summary in Text? False              \n",
            "\n",
            "\n",
            "Davenport enjoyed most of her success in the late 1990s and her third and final major tournament win came at the 2000 Australian Open. - Score: 0.009605627564326452\n",
            "\n",
            "\n",
            "                     ARTICLE:                     \n",
            "\n",
            "\n",
            "Federer won the Swiss Indoors last week by beating Romanian qualifier Marius Copil in the final. The 37-year-old claimed his 99th ATP title and is hunting the century in the French capital this week. Federer has been handed a difficult draw where could could come across Kevin Anderson, Novak Djokovic and Rafael Nadal in the latter rounds. But first the 20-time Grand Slam winner wants to train on the Paris Masters court this afternoon before deciding whether to appear for his opening match against either Milos Raonic or Jo-Wilfried Tsonga. \"On Monday, I am free and will look how I feel,\" Federer said after winning the Swiss Indoors. \"On Tuesday I will fly to Paris and train in the afternoon to be ready for my first match on Wednesday night. \"I felt good all week and better every day. \"We also had the impression that at this stage it might be better to play matches than to train. \"And as long as I fear no injury, I play.\" Federer's success in Basel last week was the ninth time he has won his hometown tournament. And he was delighted to be watched on by all of his family and friends as he purchased 60 tickets for the final for those dearest to him. \"My children, my parents, my sister and my team are all there,\" Federer added. \"It is always very emotional for me to thank my team. And sometimes it tilts with the emotions, sometimes I just stumble. \"It means the world to me. It makes me incredibly happy to win my home tournament and make people happy here. \"I do not know if it's maybe my last title, so today I try a lot more to absorb that and enjoy the moments much more consciously. \"Maybe I should celebrate as if it were my last title. \"There are very touching moments: seeing the ball children, the standing ovations, all the familiar faces in the audience. Because it was not always easy in the last weeks.\"\n",
            "\n",
            "\n",
            "                     SUMMARY:                     \n",
            "\n",
            "\n",
            "              Summary in Text? False              \n",
            "\n",
            "\n",
            "The competition is set to feature 18 countries in the November 18-24 finals in Madrid next year, and will replace the classic home-and-away ties played four times per year for decades. - Score: 0.009576898630127463\n",
            "\n",
            "\n"
          ]
        }
      ],
      "source": [
        "for i, article in enumerate(df['article_text']):\n",
        "    print(colored((\"ARTICLE:\".center(50)),'yellow'))\n",
        "    print('\\n')\n",
        "    print(colored((article),'blue'))\n",
        "    print('\\n')\n",
        "    print(colored((\"SUMMARY:\".center(50)),'green'))\n",
        "    print('\\n')\n",
        "    print(colored((f\"Summary in Text? {ranked_sentences[i][1] in article}\".center(50)),'green'))\n",
        "    print('\\n')\n",
        "    print(colored((f'{ranked_sentences[i][1]} - Score: {ranked_sentences[i][0]}'),'cyan'))\n",
        "    print('\\n')"
      ]
    },
    {
      "cell_type": "code",
      "execution_count": null,
      "metadata": {
        "id": "d-d0Xe8SM60Z"
      },
      "outputs": [],
      "source": []
    }
  ],
  "metadata": {
    "colab": {
      "provenance": []
    },
    "kernelspec": {
      "display_name": "Python 3.10.4 64-bit",
      "language": "python",
      "name": "python3"
    },
    "language_info": {
      "codemirror_mode": {
        "name": "ipython",
        "version": 3
      },
      "file_extension": ".py",
      "mimetype": "text/x-python",
      "name": "python",
      "nbconvert_exporter": "python",
      "pygments_lexer": "ipython3",
      "version": "3.10.4"
    },
    "vscode": {
      "interpreter": {
        "hash": "fbfacf25abbc4466cbf6a4ec94f71aa428570133f008ac9f4c86deb26a69bb88"
      }
    }
  },
  "nbformat": 4,
  "nbformat_minor": 0
}
